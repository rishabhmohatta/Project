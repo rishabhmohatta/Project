{
 "cells": [
  {
   "cell_type": "code",
   "execution_count": 2,
   "metadata": {},
   "outputs": [],
   "source": [
    "# TASK 1 \n",
    "# QUESTION A\n",
    "import pandas as pd\n",
    "import numpy as np\n",
    "import matplotlib.pyplot as plt\n",
    "#import statsmodels.api as sm\n",
    "import seaborn as sns\n",
    "from sklearn import datasets, linear_model"
   ]
  },
  {
   "cell_type": "code",
   "execution_count": 2,
   "metadata": {},
   "outputs": [],
   "source": [
    "df_marketing = pd.read_csv('SalesBasedOnAdvertising.csv', sep = ',')"
   ]
  },
  {
   "cell_type": "code",
   "execution_count": 3,
   "metadata": {},
   "outputs": [
    {
     "data": {
      "text/plain": [
       "Sno          204\n",
       "TV           204\n",
       "radio        203\n",
       "newspaper    204\n",
       "sales        204\n",
       "dtype: int64"
      ]
     },
     "execution_count": 3,
     "metadata": {},
     "output_type": "execute_result"
    }
   ],
   "source": [
    "# QUESTION B\n",
    "df_marketing.count()"
   ]
  },
  {
   "cell_type": "code",
   "execution_count": 4,
   "metadata": {},
   "outputs": [
    {
     "data": {
      "text/html": [
       "<div>\n",
       "<style scoped>\n",
       "    .dataframe tbody tr th:only-of-type {\n",
       "        vertical-align: middle;\n",
       "    }\n",
       "\n",
       "    .dataframe tbody tr th {\n",
       "        vertical-align: top;\n",
       "    }\n",
       "\n",
       "    .dataframe thead th {\n",
       "        text-align: right;\n",
       "    }\n",
       "</style>\n",
       "<table border=\"1\" class=\"dataframe\">\n",
       "  <thead>\n",
       "    <tr style=\"text-align: right;\">\n",
       "      <th></th>\n",
       "      <th>Sno</th>\n",
       "      <th>TV</th>\n",
       "      <th>radio</th>\n",
       "      <th>newspaper</th>\n",
       "      <th>sales</th>\n",
       "    </tr>\n",
       "  </thead>\n",
       "  <tbody>\n",
       "    <tr>\n",
       "      <th>count</th>\n",
       "      <td>204.000000</td>\n",
       "      <td>204.000000</td>\n",
       "      <td>203.000000</td>\n",
       "      <td>204.000000</td>\n",
       "      <td>204.000000</td>\n",
       "    </tr>\n",
       "    <tr>\n",
       "      <th>mean</th>\n",
       "      <td>102.500000</td>\n",
       "      <td>146.602451</td>\n",
       "      <td>23.122167</td>\n",
       "      <td>30.712255</td>\n",
       "      <td>14.020588</td>\n",
       "    </tr>\n",
       "    <tr>\n",
       "      <th>std</th>\n",
       "      <td>59.033889</td>\n",
       "      <td>86.062496</td>\n",
       "      <td>14.810692</td>\n",
       "      <td>21.731852</td>\n",
       "      <td>5.905251</td>\n",
       "    </tr>\n",
       "    <tr>\n",
       "      <th>min</th>\n",
       "      <td>1.000000</td>\n",
       "      <td>0.000000</td>\n",
       "      <td>0.000000</td>\n",
       "      <td>0.300000</td>\n",
       "      <td>0.000000</td>\n",
       "    </tr>\n",
       "    <tr>\n",
       "      <th>25%</th>\n",
       "      <td>51.750000</td>\n",
       "      <td>72.700000</td>\n",
       "      <td>9.950000</td>\n",
       "      <td>12.875000</td>\n",
       "      <td>10.250000</td>\n",
       "    </tr>\n",
       "    <tr>\n",
       "      <th>50%</th>\n",
       "      <td>102.500000</td>\n",
       "      <td>149.750000</td>\n",
       "      <td>22.300000</td>\n",
       "      <td>26.050000</td>\n",
       "      <td>12.900000</td>\n",
       "    </tr>\n",
       "    <tr>\n",
       "      <th>75%</th>\n",
       "      <td>153.250000</td>\n",
       "      <td>218.625000</td>\n",
       "      <td>36.400000</td>\n",
       "      <td>45.100000</td>\n",
       "      <td>17.400000</td>\n",
       "    </tr>\n",
       "    <tr>\n",
       "      <th>max</th>\n",
       "      <td>204.000000</td>\n",
       "      <td>296.400000</td>\n",
       "      <td>49.600000</td>\n",
       "      <td>114.000000</td>\n",
       "      <td>48.900000</td>\n",
       "    </tr>\n",
       "  </tbody>\n",
       "</table>\n",
       "</div>"
      ],
      "text/plain": [
       "              Sno          TV       radio   newspaper       sales\n",
       "count  204.000000  204.000000  203.000000  204.000000  204.000000\n",
       "mean   102.500000  146.602451   23.122167   30.712255   14.020588\n",
       "std     59.033889   86.062496   14.810692   21.731852    5.905251\n",
       "min      1.000000    0.000000    0.000000    0.300000    0.000000\n",
       "25%     51.750000   72.700000    9.950000   12.875000   10.250000\n",
       "50%    102.500000  149.750000   22.300000   26.050000   12.900000\n",
       "75%    153.250000  218.625000   36.400000   45.100000   17.400000\n",
       "max    204.000000  296.400000   49.600000  114.000000   48.900000"
      ]
     },
     "execution_count": 4,
     "metadata": {},
     "output_type": "execute_result"
    }
   ],
   "source": [
    "# QUESTION C\n",
    "df_marketing.describe()"
   ]
  },
  {
   "cell_type": "code",
   "execution_count": 5,
   "metadata": {},
   "outputs": [
    {
     "data": {
      "text/html": [
       "<div>\n",
       "<style scoped>\n",
       "    .dataframe tbody tr th:only-of-type {\n",
       "        vertical-align: middle;\n",
       "    }\n",
       "\n",
       "    .dataframe tbody tr th {\n",
       "        vertical-align: top;\n",
       "    }\n",
       "\n",
       "    .dataframe thead th {\n",
       "        text-align: right;\n",
       "    }\n",
       "</style>\n",
       "<table border=\"1\" class=\"dataframe\">\n",
       "  <thead>\n",
       "    <tr style=\"text-align: right;\">\n",
       "      <th></th>\n",
       "      <th>Sno</th>\n",
       "      <th>TV</th>\n",
       "      <th>radio</th>\n",
       "      <th>newspaper</th>\n",
       "      <th>sales</th>\n",
       "    </tr>\n",
       "  </thead>\n",
       "  <tbody>\n",
       "    <tr>\n",
       "      <th>Sno</th>\n",
       "      <td>1.000000</td>\n",
       "      <td>0.008941</td>\n",
       "      <td>-0.111821</td>\n",
       "      <td>-0.153636</td>\n",
       "      <td>-0.098056</td>\n",
       "    </tr>\n",
       "    <tr>\n",
       "      <th>TV</th>\n",
       "      <td>0.008941</td>\n",
       "      <td>1.000000</td>\n",
       "      <td>0.062181</td>\n",
       "      <td>0.039566</td>\n",
       "      <td>0.726316</td>\n",
       "    </tr>\n",
       "    <tr>\n",
       "      <th>radio</th>\n",
       "      <td>-0.111821</td>\n",
       "      <td>0.062181</td>\n",
       "      <td>1.000000</td>\n",
       "      <td>0.346235</td>\n",
       "      <td>0.574775</td>\n",
       "    </tr>\n",
       "    <tr>\n",
       "      <th>newspaper</th>\n",
       "      <td>-0.153636</td>\n",
       "      <td>0.039566</td>\n",
       "      <td>0.346235</td>\n",
       "      <td>1.000000</td>\n",
       "      <td>0.185176</td>\n",
       "    </tr>\n",
       "    <tr>\n",
       "      <th>sales</th>\n",
       "      <td>-0.098056</td>\n",
       "      <td>0.726316</td>\n",
       "      <td>0.574775</td>\n",
       "      <td>0.185176</td>\n",
       "      <td>1.000000</td>\n",
       "    </tr>\n",
       "  </tbody>\n",
       "</table>\n",
       "</div>"
      ],
      "text/plain": [
       "                Sno        TV     radio  newspaper     sales\n",
       "Sno        1.000000  0.008941 -0.111821  -0.153636 -0.098056\n",
       "TV         0.008941  1.000000  0.062181   0.039566  0.726316\n",
       "radio     -0.111821  0.062181  1.000000   0.346235  0.574775\n",
       "newspaper -0.153636  0.039566  0.346235   1.000000  0.185176\n",
       "sales     -0.098056  0.726316  0.574775   0.185176  1.000000"
      ]
     },
     "execution_count": 5,
     "metadata": {},
     "output_type": "execute_result"
    }
   ],
   "source": [
    "df_marketing.corr()"
   ]
  },
  {
   "cell_type": "code",
   "execution_count": 6,
   "metadata": {},
   "outputs": [
    {
     "data": {
      "text/html": [
       "<div>\n",
       "<style scoped>\n",
       "    .dataframe tbody tr th:only-of-type {\n",
       "        vertical-align: middle;\n",
       "    }\n",
       "\n",
       "    .dataframe tbody tr th {\n",
       "        vertical-align: top;\n",
       "    }\n",
       "\n",
       "    .dataframe thead th {\n",
       "        text-align: right;\n",
       "    }\n",
       "</style>\n",
       "<table border=\"1\" class=\"dataframe\">\n",
       "  <thead>\n",
       "    <tr style=\"text-align: right;\">\n",
       "      <th></th>\n",
       "      <th>Sno</th>\n",
       "      <th>TV</th>\n",
       "      <th>radio</th>\n",
       "      <th>newspaper</th>\n",
       "      <th>sales</th>\n",
       "    </tr>\n",
       "  </thead>\n",
       "  <tbody>\n",
       "    <tr>\n",
       "      <th>Sno</th>\n",
       "      <td>3485.000000</td>\n",
       "      <td>45.423399</td>\n",
       "      <td>-97.290594</td>\n",
       "      <td>-197.101724</td>\n",
       "      <td>-34.183251</td>\n",
       "    </tr>\n",
       "    <tr>\n",
       "      <th>TV</th>\n",
       "      <td>45.423399</td>\n",
       "      <td>7406.753245</td>\n",
       "      <td>79.314771</td>\n",
       "      <td>74.000216</td>\n",
       "      <td>369.128619</td>\n",
       "    </tr>\n",
       "    <tr>\n",
       "      <th>radio</th>\n",
       "      <td>-97.290594</td>\n",
       "      <td>79.314771</td>\n",
       "      <td>219.356585</td>\n",
       "      <td>111.707667</td>\n",
       "      <td>45.836834</td>\n",
       "    </tr>\n",
       "    <tr>\n",
       "      <th>newspaper</th>\n",
       "      <td>-197.101724</td>\n",
       "      <td>74.000216</td>\n",
       "      <td>111.707667</td>\n",
       "      <td>472.273396</td>\n",
       "      <td>23.763983</td>\n",
       "    </tr>\n",
       "    <tr>\n",
       "      <th>sales</th>\n",
       "      <td>-34.183251</td>\n",
       "      <td>369.128619</td>\n",
       "      <td>45.836834</td>\n",
       "      <td>23.763983</td>\n",
       "      <td>34.871988</td>\n",
       "    </tr>\n",
       "  </tbody>\n",
       "</table>\n",
       "</div>"
      ],
      "text/plain": [
       "                   Sno           TV       radio   newspaper       sales\n",
       "Sno        3485.000000    45.423399  -97.290594 -197.101724  -34.183251\n",
       "TV           45.423399  7406.753245   79.314771   74.000216  369.128619\n",
       "radio       -97.290594    79.314771  219.356585  111.707667   45.836834\n",
       "newspaper  -197.101724    74.000216  111.707667  472.273396   23.763983\n",
       "sales       -34.183251   369.128619   45.836834   23.763983   34.871988"
      ]
     },
     "execution_count": 6,
     "metadata": {},
     "output_type": "execute_result"
    }
   ],
   "source": [
    "df_marketing.cov()"
   ]
  },
  {
   "cell_type": "code",
   "execution_count": 7,
   "metadata": {},
   "outputs": [
    {
     "data": {
      "text/html": [
       "<div>\n",
       "<style scoped>\n",
       "    .dataframe tbody tr th:only-of-type {\n",
       "        vertical-align: middle;\n",
       "    }\n",
       "\n",
       "    .dataframe tbody tr th {\n",
       "        vertical-align: top;\n",
       "    }\n",
       "\n",
       "    .dataframe thead th {\n",
       "        text-align: right;\n",
       "    }\n",
       "</style>\n",
       "<table border=\"1\" class=\"dataframe\">\n",
       "  <thead>\n",
       "    <tr style=\"text-align: right;\">\n",
       "      <th></th>\n",
       "      <th>Sno</th>\n",
       "      <th>TV</th>\n",
       "      <th>radio</th>\n",
       "      <th>newspaper</th>\n",
       "      <th>sales</th>\n",
       "    </tr>\n",
       "  </thead>\n",
       "  <tbody>\n",
       "    <tr>\n",
       "      <th>97</th>\n",
       "      <td>98</td>\n",
       "      <td>0.0</td>\n",
       "      <td>18.0</td>\n",
       "      <td>67.0</td>\n",
       "      <td>0.0</td>\n",
       "    </tr>\n",
       "    <tr>\n",
       "      <th>121</th>\n",
       "      <td>122</td>\n",
       "      <td>69.4</td>\n",
       "      <td>3.0</td>\n",
       "      <td>34.0</td>\n",
       "      <td>0.0</td>\n",
       "    </tr>\n",
       "  </tbody>\n",
       "</table>\n",
       "</div>"
      ],
      "text/plain": [
       "     Sno    TV  radio  newspaper  sales\n",
       "97    98   0.0   18.0       67.0    0.0\n",
       "121  122  69.4    3.0       34.0    0.0"
      ]
     },
     "execution_count": 7,
     "metadata": {},
     "output_type": "execute_result"
    }
   ],
   "source": [
    "# QUESTION D\n",
    "df_marketing[df_marketing['sales']==0.0]"
   ]
  },
  {
   "cell_type": "code",
   "execution_count": 8,
   "metadata": {},
   "outputs": [],
   "source": [
    "df_marketing = df_marketing.drop(df_marketing.index[[97,121]])"
   ]
  },
  {
   "cell_type": "code",
   "execution_count": 9,
   "metadata": {},
   "outputs": [
    {
     "data": {
      "text/plain": [
       "Sno          202\n",
       "TV           202\n",
       "radio        201\n",
       "newspaper    202\n",
       "sales        202\n",
       "dtype: int64"
      ]
     },
     "execution_count": 9,
     "metadata": {},
     "output_type": "execute_result"
    }
   ],
   "source": [
    "df_marketing.count()"
   ]
  },
  {
   "cell_type": "code",
   "execution_count": 10,
   "metadata": {},
   "outputs": [
    {
     "data": {
      "text/html": [
       "<div>\n",
       "<style scoped>\n",
       "    .dataframe tbody tr th:only-of-type {\n",
       "        vertical-align: middle;\n",
       "    }\n",
       "\n",
       "    .dataframe tbody tr th {\n",
       "        vertical-align: top;\n",
       "    }\n",
       "\n",
       "    .dataframe thead th {\n",
       "        text-align: right;\n",
       "    }\n",
       "</style>\n",
       "<table border=\"1\" class=\"dataframe\">\n",
       "  <thead>\n",
       "    <tr style=\"text-align: right;\">\n",
       "      <th></th>\n",
       "      <th>Sno</th>\n",
       "      <th>TV</th>\n",
       "      <th>radio</th>\n",
       "      <th>newspaper</th>\n",
       "      <th>sales</th>\n",
       "    </tr>\n",
       "  </thead>\n",
       "  <tbody>\n",
       "    <tr>\n",
       "      <th>131</th>\n",
       "      <td>132</td>\n",
       "      <td>80.2</td>\n",
       "      <td>0.0</td>\n",
       "      <td>9.2</td>\n",
       "      <td>8.8</td>\n",
       "    </tr>\n",
       "  </tbody>\n",
       "</table>\n",
       "</div>"
      ],
      "text/plain": [
       "     Sno    TV  radio  newspaper  sales\n",
       "131  132  80.2    0.0        9.2    8.8"
      ]
     },
     "execution_count": 10,
     "metadata": {},
     "output_type": "execute_result"
    }
   ],
   "source": [
    "df_marketing[df_marketing['radio']==0.0]"
   ]
  },
  {
   "cell_type": "code",
   "execution_count": 11,
   "metadata": {},
   "outputs": [],
   "source": [
    "df_marketing = df_marketing.fillna(0.0)"
   ]
  },
  {
   "cell_type": "code",
   "execution_count": 12,
   "metadata": {},
   "outputs": [
    {
     "data": {
      "text/html": [
       "<div>\n",
       "<style scoped>\n",
       "    .dataframe tbody tr th:only-of-type {\n",
       "        vertical-align: middle;\n",
       "    }\n",
       "\n",
       "    .dataframe tbody tr th {\n",
       "        vertical-align: top;\n",
       "    }\n",
       "\n",
       "    .dataframe thead th {\n",
       "        text-align: right;\n",
       "    }\n",
       "</style>\n",
       "<table border=\"1\" class=\"dataframe\">\n",
       "  <thead>\n",
       "    <tr style=\"text-align: right;\">\n",
       "      <th></th>\n",
       "      <th>Sno</th>\n",
       "      <th>TV</th>\n",
       "      <th>radio</th>\n",
       "      <th>newspaper</th>\n",
       "      <th>sales</th>\n",
       "    </tr>\n",
       "  </thead>\n",
       "  <tbody>\n",
       "    <tr>\n",
       "      <th>0</th>\n",
       "      <td>1</td>\n",
       "      <td>219.0</td>\n",
       "      <td>0.0</td>\n",
       "      <td>34.5</td>\n",
       "      <td>48.9</td>\n",
       "    </tr>\n",
       "    <tr>\n",
       "      <th>131</th>\n",
       "      <td>132</td>\n",
       "      <td>80.2</td>\n",
       "      <td>0.0</td>\n",
       "      <td>9.2</td>\n",
       "      <td>8.8</td>\n",
       "    </tr>\n",
       "  </tbody>\n",
       "</table>\n",
       "</div>"
      ],
      "text/plain": [
       "     Sno     TV  radio  newspaper  sales\n",
       "0      1  219.0    0.0       34.5   48.9\n",
       "131  132   80.2    0.0        9.2    8.8"
      ]
     },
     "execution_count": 12,
     "metadata": {},
     "output_type": "execute_result"
    }
   ],
   "source": [
    "df_marketing[df_marketing['radio']==0.0]"
   ]
  },
  {
   "cell_type": "code",
   "execution_count": 13,
   "metadata": {},
   "outputs": [],
   "source": [
    "radio = df_marketing['radio'].loc[df_marketing['radio']!=0.0]"
   ]
  },
  {
   "cell_type": "code",
   "execution_count": 14,
   "metadata": {},
   "outputs": [],
   "source": [
    "rmean = radio.astype(float).mean()"
   ]
  },
  {
   "cell_type": "code",
   "execution_count": 15,
   "metadata": {},
   "outputs": [],
   "source": [
    "df_marketing['radio'] = df_marketing['radio'].replace(0.0,rmean).astype(float)"
   ]
  },
  {
   "cell_type": "code",
   "execution_count": 16,
   "metadata": {},
   "outputs": [
    {
     "data": {
      "text/html": [
       "<div>\n",
       "<style scoped>\n",
       "    .dataframe tbody tr th:only-of-type {\n",
       "        vertical-align: middle;\n",
       "    }\n",
       "\n",
       "    .dataframe tbody tr th {\n",
       "        vertical-align: top;\n",
       "    }\n",
       "\n",
       "    .dataframe thead th {\n",
       "        text-align: right;\n",
       "    }\n",
       "</style>\n",
       "<table border=\"1\" class=\"dataframe\">\n",
       "  <thead>\n",
       "    <tr style=\"text-align: right;\">\n",
       "      <th></th>\n",
       "      <th>Sno</th>\n",
       "      <th>TV</th>\n",
       "      <th>radio</th>\n",
       "      <th>newspaper</th>\n",
       "      <th>sales</th>\n",
       "    </tr>\n",
       "  </thead>\n",
       "  <tbody>\n",
       "  </tbody>\n",
       "</table>\n",
       "</div>"
      ],
      "text/plain": [
       "Empty DataFrame\n",
       "Columns: [Sno, TV, radio, newspaper, sales]\n",
       "Index: []"
      ]
     },
     "execution_count": 16,
     "metadata": {},
     "output_type": "execute_result"
    }
   ],
   "source": [
    "df_marketing[df_marketing['radio']==0.0]"
   ]
  },
  {
   "cell_type": "code",
   "execution_count": 17,
   "metadata": {},
   "outputs": [
    {
     "data": {
      "text/plain": [
       "Sno          202\n",
       "TV           202\n",
       "radio        202\n",
       "newspaper    202\n",
       "sales        202\n",
       "dtype: int64"
      ]
     },
     "execution_count": 17,
     "metadata": {},
     "output_type": "execute_result"
    }
   ],
   "source": [
    "# QUESTION E\n",
    "df_marketing.count()"
   ]
  },
  {
   "cell_type": "code",
   "execution_count": 18,
   "metadata": {},
   "outputs": [
    {
     "name": "stdout",
     "output_type": "stream",
     "text": [
      "              Sno          TV       radio   newspaper       sales\n",
      "count  202.000000  202.000000  202.000000  202.000000  202.000000\n",
      "mean   102.425743  147.710396   23.364000   30.516337   14.159406\n",
      "std     59.310021   85.689200   14.682809   21.687071    5.765728\n",
      "min      1.000000    0.700000    0.300000    0.300000    1.600000\n",
      "25%     51.250000   74.800000   10.225000   12.825000   10.325000\n",
      "50%    102.500000  150.650000   23.332000   25.750000   12.900000\n",
      "75%    153.750000  218.875000   36.450000   44.900000   17.400000\n",
      "max    204.000000  296.400000   49.600000  114.000000   48.900000\n",
      "                Sno        TV     radio  newspaper     sales\n",
      "Sno        1.000000  0.009871 -0.106348  -0.154389 -0.097866\n",
      "TV         0.009871  1.000000  0.047962   0.055256  0.722656\n",
      "radio     -0.106348  0.047962  1.000000   0.348805  0.516264\n",
      "newspaper -0.154389  0.055256  0.348805   1.000000  0.214235\n",
      "sales     -0.097866  0.722656  0.516264   0.214235  1.000000\n",
      "                   Sno           TV       radio   newspaper       sales\n",
      "Sno        3517.678538    50.165701  -92.612179 -198.584104  -33.466711\n",
      "TV           50.165701  7342.639046   60.343974  102.684506  357.035648\n",
      "radio       -92.612179    60.343974  215.584880  111.068913   43.705373\n",
      "newspaper  -198.584104   102.684506  111.068913  470.329035   26.788328\n",
      "sales       -33.466711   357.035648   43.705373   26.788328   33.243618\n"
     ]
    }
   ],
   "source": [
    "print(df_marketing.describe())\n",
    "print(df_marketing.corr())\n",
    "print(df_marketing.cov())"
   ]
  },
  {
   "cell_type": "code",
   "execution_count": 19,
   "metadata": {},
   "outputs": [
    {
     "data": {
      "image/png": "[encoded data removed]",
      "text/plain": [
       "<Figure size 720x432 with 4 Axes>"
      ]
     },
     "metadata": {},
     "output_type": "display_data"
    }
   ],
   "source": [
    "# TASK 2\n",
    "# QUESTION A\n",
    "\n",
    "data = [df_marketing['TV'],df_marketing['radio'],df_marketing['newspaper'],df_marketing['sales']]\n",
    "f = plt.figure(figsize=(10,6))\n",
    "ax1 = f.add_subplot(221)\n",
    "ax1.boxplot(df_marketing['TV'],patch_artist = True)\n",
    "ax2 = f.add_subplot(222)\n",
    "ax2.boxplot(df_marketing['radio'],patch_artist = True)\n",
    "ax3 = f.add_subplot(223)\n",
    "ax3.boxplot(df_marketing['newspaper'],patch_artist = True)\n",
    "ax4 = f.add_subplot(224)\n",
    "ax4.boxplot(df_marketing['sales'],patch_artist = True)\n",
    "ax1.set_ylabel('rupees in thousand')\n",
    "ax1.set_xlabel('advertisments on tv')\n",
    "ax2.set_ylabel('rupees in thousand')\n",
    "ax2.set_xlabel('advertisments on radio')\n",
    "ax3.set_ylabel('rupees in thousand')\n",
    "ax3.set_xlabel('advertisments on newspaper')\n",
    "ax4.set_ylabel('rupees in lakh')\n",
    "ax4.set_xlabel('sales')\n",
    "ax1.set_title('TV')\n",
    "ax2.set_title('Radio')\n",
    "ax3.set_title('Newspaper')\n",
    "ax4.set_title('SALES')\n",
    "f.suptitle('Expenditures and Sales',color = 'red',style = 'oblique')\n",
    "ax1.tick_params(axis = 'x',bottom = False, labelbottom = False)\n",
    "ax2.tick_params(axis = 'x',bottom = False, labelbottom = False)\n",
    "ax3.tick_params(axis = 'x',bottom = False, labelbottom = False)\n",
    "ax4.tick_params(axis = 'x',bottom = False, labelbottom = False)"
   ]
  },
  {
   "cell_type": "code",
   "execution_count": 20,
   "metadata": {},
   "outputs": [],
   "source": [
    "# IN ABOVE BOXPLOT WE CAN SEE THAT THE EXPENDITURE ON TV ADVERTISMENT IS HIGHER THAN BOTH OF OTHER PLATFORM\n",
    "# WE CAN SEE THAT THE AVERAGE SALES IS AROUND 15 TO 22 LAC IF WE SPEND A EXPENDITURE OF APPROX 150 TO 200 THOUSAND."
   ]
  },
  {
   "cell_type": "code",
   "execution_count": 21,
   "metadata": {},
   "outputs": [
    {
     "data": {
      "image/png": "[encoded data removed]",
      "text/plain": [
       "<Figure size 720x432 with 2 Axes>"
      ]
     },
     "metadata": {},
     "output_type": "display_data"
    }
   ],
   "source": [
    "# QUESTION B\n",
    "colors = ['yellow','green','blue','pink']\n",
    "fig = plt.figure(figsize = (10,6))\n",
    "fig.suptitle('Boxplot and Lineplot',color = 'Red',style = 'oblique')\n",
    "ax1 = fig.add_subplot(221)\n",
    "boxplot_patch = ax1.boxplot(data,patch_artist = True)\n",
    "ax2= fig.add_subplot(222)\n",
    "df_marketing.plot(kind = 'line',ax = ax2)\n",
    "ax1.set_ylabel('rupees in thousand & lac for sales')\n",
    "ax1.set_xlabel('advertisments and sales')\n",
    "ax2.set_ylabel('rupees in thousand & lac for sales')\n",
    "ax2.set_xlabel('no. of days')\n",
    "ax1.set_title('boxplot',color = 'blue',style= 'italic')\n",
    "ax2.set_title('lineplot',color = 'blue',style= 'italic')\n",
    "for i in range(0,4):\n",
    "    boxplot_patch['boxes'][i].set(facecolor = colors[i], \n",
    "                              edgecolor = 'purple', \n",
    "                              hatch = '' )"
   ]
  },
  {
   "cell_type": "code",
   "execution_count": 22,
   "metadata": {},
   "outputs": [],
   "source": [
    "# TASK 3\n",
    "# QUESTION A\n",
    "# THE Independent variable in this data set are Tv ,Radio,newspaper attributes. And the sales depend on these attribute\n",
    "# As we spend on advertisment of differnt platform if we spend  average amount we get sale around 20 to 30 lac.\n",
    "# the model can be linear regression which can be simple or may be multiple by combining the three independent attribute"
   ]
  },
  {
   "cell_type": "code",
   "execution_count": 23,
   "metadata": {},
   "outputs": [
    {
     "data": {
      "text/plain": [
       "<matplotlib.axes._subplots.AxesSubplot at 0x29c580ec908>"
      ]
     },
     "execution_count": 23,
     "metadata": {},
     "output_type": "execute_result"
    },
    {
     "data": {
      "image/png": "[encoded data removed]",
      "text/plain": [
       "<Figure size 432x288 with 1 Axes>"
      ]
     },
     "metadata": {},
     "output_type": "display_data"
    }
   ],
   "source": [
    "# QUESTION B\n",
    "f,ax = plt.subplots()\n",
    "sns.distplot(df_marketing['sales'],kde = True,hist = False)"
   ]
  },
  {
   "cell_type": "code",
   "execution_count": 24,
   "metadata": {},
   "outputs": [
    {
     "data": {
      "text/plain": [
       "Text(0.5, 1.0, 'Expenditure vs Sales')"
      ]
     },
     "execution_count": 24,
     "metadata": {},
     "output_type": "execute_result"
    },
    {
     "data": {
      "image/png": "[encoded data removed]",
      "text/plain": [
       "<Figure size 432x288 with 1 Axes>"
      ]
     },
     "metadata": {},
     "output_type": "display_data"
    }
   ],
   "source": [
    "# TASK 4 \n",
    "# QUESTION A\n",
    "fig,ax = plt.subplots()\n",
    "plt.scatter(x = df_marketing['TV'],y = df_marketing['sales'])\n",
    "plt.xlabel('Expenditure on Tv')\n",
    "plt.ylabel('SALES')\n",
    "plt.title('Expenditure vs Sales',color = 'Blue')"
   ]
  },
  {
   "cell_type": "code",
   "execution_count": 25,
   "metadata": {},
   "outputs": [
    {
     "data": {
      "text/plain": [
       "Text(0.5, 1.0, 'Newspaper')"
      ]
     },
     "execution_count": 25,
     "metadata": {},
     "output_type": "execute_result"
    },
    {
     "data": {
      "image/png": "[encoded data removed]",
      "text/plain": [
       "<Figure size 1080x576 with 3 Axes>"
      ]
     },
     "metadata": {},
     "output_type": "display_data"
    }
   ],
   "source": [
    "# QUESTION B\n",
    "fig = plt.figure(figsize = (15,8))\n",
    "ax1 = fig.add_subplot(331)\n",
    "ax1.scatter(x = df_marketing['TV'],y = df_marketing['sales'],color = 'seagreen',label = 'TV vs sales')\n",
    "ax2 = fig.add_subplot(332)\n",
    "ax2.scatter(x = df_marketing['radio'],y = df_marketing['sales'],color = 'darkgreen',label = 'radio vs sales')\n",
    "ax3 = fig.add_subplot(333)\n",
    "ax3.scatter(x = df_marketing['newspaper'],y = df_marketing['sales'],color = 'black',label = 'paper vs sales')\n",
    "ax1.set_ylabel('sales')\n",
    "ax1.set_xlabel('Expenditure on tv')\n",
    "ax2.set_xlabel('Expenditure on radio')\n",
    "ax3.set_xlabel('Expenditure on newspaper')\n",
    "ax1.set_title('TV')\n",
    "ax2.set_title('Radio')\n",
    "ax3.set_title('Newspaper')"
   ]
  },
  {
   "cell_type": "code",
   "execution_count": 26,
   "metadata": {},
   "outputs": [
    {
     "data": {
      "text/plain": [
       "<seaborn.axisgrid.PairGrid at 0x29c580d5c18>"
      ]
     },
     "execution_count": 26,
     "metadata": {},
     "output_type": "execute_result"
    },
    {
     "data": {
      "image/png": "[encoded data removed]",
      "text/plain": [
       "<Figure size 864x288 with 3 Axes>"
      ]
     },
     "metadata": {},
     "output_type": "display_data"
    }
   ],
   "source": [
    "# QUESTION C\n",
    "sns.pairplot(df_marketing,x_vars = ['TV','radio','newspaper'],\n",
    "             y_vars = ['sales'],\n",
    "             height = 4,kind = 'reg')"
   ]
  },
  {
   "cell_type": "code",
   "execution_count": 27,
   "metadata": {},
   "outputs": [],
   "source": [
    "# TASK 5 \n",
    "# QUESTION A AND QUESTION B AND C"
   ]
  },
  {
   "cell_type": "code",
   "execution_count": 28,
   "metadata": {},
   "outputs": [],
   "source": [
    "total = df_marketing['TV']+df_marketing['radio']+df_marketing['newspaper']\n",
    "df_marketing['total_Adv'] = total"
   ]
  },
  {
   "cell_type": "code",
   "execution_count": 29,
   "metadata": {},
   "outputs": [],
   "source": [
    "x_simple = df_marketing['total_Adv'].values.reshape(-1,1)\n",
    "y_simple = df_marketing['sales']"
   ]
  },
  {
   "cell_type": "code",
   "execution_count": 30,
   "metadata": {},
   "outputs": [],
   "source": [
    "simple_model = linear_model.LinearRegression()"
   ]
  },
  {
   "cell_type": "code",
   "execution_count": 31,
   "metadata": {},
   "outputs": [
    {
     "data": {
      "text/plain": [
       "LinearRegression(copy_X=True, fit_intercept=True, n_jobs=None,\n",
       "         normalize=False)"
      ]
     },
     "execution_count": 31,
     "metadata": {},
     "output_type": "execute_result"
    }
   ],
   "source": [
    "simple_model.fit(x_simple,y_simple)"
   ]
  },
  {
   "cell_type": "code",
   "execution_count": 32,
   "metadata": {},
   "outputs": [
    {
     "data": {
      "text/plain": [
       "0.6410633564014648"
      ]
     },
     "execution_count": 32,
     "metadata": {},
     "output_type": "execute_result"
    }
   ],
   "source": [
    "simple_model.score(x_simple,y_simple)             # R2 VALUE"
   ]
  },
  {
   "cell_type": "code",
   "execution_count": 33,
   "metadata": {},
   "outputs": [
    {
     "data": {
      "text/plain": [
       "array([0.04984749])"
      ]
     },
     "execution_count": 33,
     "metadata": {},
     "output_type": "execute_result"
    }
   ],
   "source": [
    "b1 = simple_model.coef_                           # SLOPE VALUE\n",
    "b1"
   ]
  },
  {
   "cell_type": "code",
   "execution_count": 34,
   "metadata": {},
   "outputs": [
    {
     "data": {
      "text/plain": [
       "4.110613869188242"
      ]
     },
     "execution_count": 34,
     "metadata": {},
     "output_type": "execute_result"
    }
   ],
   "source": [
    "b0 = simple_model.intercept_                      # INTERCEPT VALUE\n",
    "b0"
   ]
  },
  {
   "cell_type": "code",
   "execution_count": 35,
   "metadata": {},
   "outputs": [
    {
     "data": {
      "text/plain": [
       "array([2496.48512389])"
      ]
     },
     "execution_count": 35,
     "metadata": {},
     "output_type": "execute_result"
    }
   ],
   "source": [
    "sales = b0+b1*50000           # MATHEMATICAL EQUATION\n",
    "sales"
   ]
  },
  {
   "cell_type": "code",
   "execution_count": 36,
   "metadata": {},
   "outputs": [
    {
     "data": {
      "text/plain": [
       "array([2496.48512389])"
      ]
     },
     "execution_count": 36,
     "metadata": {},
     "output_type": "execute_result"
    }
   ],
   "source": [
    "new_total_Adv = np.array(50000)                       # PREDICT METHOD\n",
    "new_total_Adv=new_total_Adv.reshape(-1,1)\n",
    "sales1 = simple_model.predict(new_total_Adv)\n",
    "sales1"
   ]
  },
  {
   "cell_type": "code",
   "execution_count": 37,
   "metadata": {},
   "outputs": [
    {
     "data": {
      "text/plain": [
       "Text(0, 0.5, 'sales(in lakh)')"
      ]
     },
     "execution_count": 37,
     "metadata": {},
     "output_type": "execute_result"
    },
    {
     "data": {
      "image/png": "[encoded data removed]",
      "text/plain": [
       "<Figure size 432x288 with 1 Axes>"
      ]
     },
     "metadata": {},
     "output_type": "display_data"
    }
   ],
   "source": [
    "plt.scatter(x_simple,y_simple, color='black')                                                                   # NOT MANDATORY BUT TO PERFORM PRACTICAL\n",
    "plt.plot(x_simple,simple_model.predict(x_simple),color='blue', linewidth=3)\n",
    "plt.xlabel('Total_adv(in thousand)')\n",
    "plt.ylabel('sales(in lakh)')"
   ]
  },
  {
   "cell_type": "code",
   "execution_count": 38,
   "metadata": {},
   "outputs": [],
   "source": [
    "# TASK 6 \n",
    "# QUESTION A , B , C , D"
   ]
  },
  {
   "cell_type": "code",
   "execution_count": 39,
   "metadata": {},
   "outputs": [],
   "source": [
    "tv = df_marketing['TV']\n",
    "radio = df_marketing['radio']\n",
    "newspaper = df_marketing['newspaper']"
   ]
  },
  {
   "cell_type": "code",
   "execution_count": 40,
   "metadata": {},
   "outputs": [],
   "source": [
    "x_multi = np.vstack((tv,radio,newspaper))"
   ]
  },
  {
   "cell_type": "code",
   "execution_count": 41,
   "metadata": {},
   "outputs": [],
   "source": [
    "x_multi = x_multi.T"
   ]
  },
  {
   "cell_type": "code",
   "execution_count": 42,
   "metadata": {},
   "outputs": [],
   "source": [
    "y_multi = df_marketing['sales']"
   ]
  },
  {
   "cell_type": "code",
   "execution_count": 43,
   "metadata": {},
   "outputs": [],
   "source": [
    "multi_model  = linear_model.LinearRegression()"
   ]
  },
  {
   "cell_type": "code",
   "execution_count": 44,
   "metadata": {},
   "outputs": [
    {
     "data": {
      "text/plain": [
       "LinearRegression(copy_X=True, fit_intercept=True, n_jobs=None,\n",
       "         normalize=False)"
      ]
     },
     "execution_count": 44,
     "metadata": {},
     "output_type": "execute_result"
    }
   ],
   "source": [
    "multi_model.fit(x_multi,y_multi)"
   ]
  },
  {
   "cell_type": "code",
   "execution_count": 45,
   "metadata": {},
   "outputs": [
    {
     "data": {
      "text/plain": [
       "0.7547671017924948"
      ]
     },
     "execution_count": 45,
     "metadata": {},
     "output_type": "execute_result"
    }
   ],
   "source": [
    "multi_model.score(x_multi,y_multi)                   # R2 VALUE"
   ]
  },
  {
   "cell_type": "code",
   "execution_count": 46,
   "metadata": {},
   "outputs": [
    {
     "data": {
      "text/plain": [
       "2.740954989435796"
      ]
     },
     "execution_count": 46,
     "metadata": {},
     "output_type": "execute_result"
    }
   ],
   "source": [
    "b0 = multi_model.intercept_                         # INTERCEPT VALUE\n",
    "b0"
   ]
  },
  {
   "cell_type": "code",
   "execution_count": 47,
   "metadata": {},
   "outputs": [
    {
     "data": {
      "text/plain": [
       "(0.04704579243491122, 0.18843446753174536, 0.0021862197939981065)"
      ]
     },
     "execution_count": 47,
     "metadata": {},
     "output_type": "execute_result"
    }
   ],
   "source": [
    "b1,b2,b3 = multi_model.coef_                        # SLOPE FOR DIFFERENT-DIFFERENT EXPENDITURE\n",
    "b1,b2,b3"
   ]
  },
  {
   "cell_type": "code",
   "execution_count": 48,
   "metadata": {},
   "outputs": [
    {
     "data": {
      "text/plain": [
       "4900.5455674565965"
      ]
     },
     "execution_count": 48,
     "metadata": {},
     "output_type": "execute_result"
    }
   ],
   "source": [
    "sales = b0 + b1*90000+b2*3000+b3*45000             # MATHEMATICAL EQUATION           \n",
    "sales                                              # PREDICTION VALUE\n",
    "# THIS PREDICT THAT WHEN WE WILL SPEND A EXPENDITURE OF 1 LAC 38 THOUSAND THEN WE WILL GET ASALE OF 4 LAC 90 THOUSAND"
   ]
  },
  {
   "cell_type": "code",
   "execution_count": 49,
   "metadata": {},
   "outputs": [
    {
     "data": {
      "text/plain": [
       "13820.91834463354"
      ]
     },
     "execution_count": 49,
     "metadata": {},
     "output_type": "execute_result"
    }
   ],
   "source": [
    "sales = b0+b1*290000+b3*80000                      # MATHEMATICAL EQUATION\n",
    "sales                                                        # PREDICTION VALUE\n",
    "# IF WE SPEND MORE ON EXPENDITURE OF TV AND NEWSPAPER. THE BIGMART WILL HAVE A GOOD SALE "
   ]
  },
  {
   "cell_type": "code",
   "execution_count": 50,
   "metadata": {},
   "outputs": [
    {
     "data": {
      "text/plain": [
       "array([4900.54556746])"
      ]
     },
     "execution_count": 50,
     "metadata": {},
     "output_type": "execute_result"
    }
   ],
   "source": [
    "tv_new =90000                                         # BY PREDTICTION METHOD\n",
    "radio_new = 3000\n",
    "newspaper_new = 45000\n",
    "sales_1 = multi_model.predict([[tv_new,radio_new,newspaper_new]])\n",
    "sales_1"
   ]
  },
  {
   "cell_type": "code",
   "execution_count": 51,
   "metadata": {},
   "outputs": [
    {
     "data": {
      "text/plain": [
       "array([13820.91834463])"
      ]
     },
     "execution_count": 51,
     "metadata": {},
     "output_type": "execute_result"
    }
   ],
   "source": [
    "tv_new1 = 290000\n",
    "newspaper_new1 = 80000\n",
    "radio_new1 = 0\n",
    "sales_2 = multi_model.predict([[tv_new1,radio_new1,newspaper_new1]])\n",
    "sales_2"
   ]
  },
  {
   "cell_type": "code",
   "execution_count": 52,
   "metadata": {},
   "outputs": [],
   "source": [
    "import statsmodels.api as sm"
   ]
  },
  {
   "cell_type": "code",
   "execution_count": 53,
   "metadata": {},
   "outputs": [],
   "source": [
    "# TASK 7"
   ]
  },
  {
   "cell_type": "code",
   "execution_count": 54,
   "metadata": {},
   "outputs": [],
   "source": [
    "# QUESTION A\n",
    "X_simple = sm.add_constant(x_simple)"
   ]
  },
  {
   "cell_type": "code",
   "execution_count": 55,
   "metadata": {},
   "outputs": [
    {
     "data": {
      "text/html": [
       "<table class=\"simpletable\">\n",
       "<caption>OLS Regression Results</caption>\n",
       "<tr>\n",
       "  <th>Dep. Variable:</th>          <td>sales</td>      <th>  R-squared:         </th> <td>   0.641</td>\n",
       "</tr>\n",
       "<tr>\n",
       "  <th>Model:</th>                   <td>OLS</td>       <th>  Adj. R-squared:    </th> <td>   0.639</td>\n",
       "</tr>\n",
       "<tr>\n",
       "  <th>Method:</th>             <td>Least Squares</td>  <th>  F-statistic:       </th> <td>   357.2</td>\n",
       "</tr>\n",
       "<tr>\n",
       "  <th>Date:</th>             <td>Tue, 25 Dec 2018</td> <th>  Prob (F-statistic):</th> <td>2.23e-46</td>\n",
       "</tr>\n",
       "<tr>\n",
       "  <th>Time:</th>                 <td>14:21:39</td>     <th>  Log-Likelihood:    </th> <td> -536.53</td>\n",
       "</tr>\n",
       "<tr>\n",
       "  <th>No. Observations:</th>      <td>   202</td>      <th>  AIC:               </th> <td>   1077.</td>\n",
       "</tr>\n",
       "<tr>\n",
       "  <th>Df Residuals:</th>          <td>   200</td>      <th>  BIC:               </th> <td>   1084.</td>\n",
       "</tr>\n",
       "<tr>\n",
       "  <th>Df Model:</th>              <td>     1</td>      <th>                     </th>     <td> </td>   \n",
       "</tr>\n",
       "<tr>\n",
       "  <th>Covariance Type:</th>      <td>nonrobust</td>    <th>                     </th>     <td> </td>   \n",
       "</tr>\n",
       "</table>\n",
       "<table class=\"simpletable\">\n",
       "<tr>\n",
       "    <td></td>       <th>coef</th>     <th>std err</th>      <th>t</th>      <th>P>|t|</th>  <th>[0.025</th>    <th>0.975]</th>  \n",
       "</tr>\n",
       "<tr>\n",
       "  <th>const</th> <td>    4.1106</td> <td>    0.585</td> <td>    7.028</td> <td> 0.000</td> <td>    2.957</td> <td>    5.264</td>\n",
       "</tr>\n",
       "<tr>\n",
       "  <th>x1</th>    <td>    0.0498</td> <td>    0.003</td> <td>   18.900</td> <td> 0.000</td> <td>    0.045</td> <td>    0.055</td>\n",
       "</tr>\n",
       "</table>\n",
       "<table class=\"simpletable\">\n",
       "<tr>\n",
       "  <th>Omnibus:</th>       <td>190.334</td> <th>  Durbin-Watson:     </th> <td>   1.536</td>\n",
       "</tr>\n",
       "<tr>\n",
       "  <th>Prob(Omnibus):</th> <td> 0.000</td>  <th>  Jarque-Bera (JB):  </th> <td>8361.155</td>\n",
       "</tr>\n",
       "<tr>\n",
       "  <th>Skew:</th>          <td> 3.253</td>  <th>  Prob(JB):          </th> <td>    0.00</td>\n",
       "</tr>\n",
       "<tr>\n",
       "  <th>Kurtosis:</th>      <td>33.840</td>  <th>  Cond. No.          </th> <td>    532.</td>\n",
       "</tr>\n",
       "</table><br/><br/>Warnings:<br/>[1] Standard Errors assume that the covariance matrix of the errors is correctly specified."
      ],
      "text/plain": [
       "<class 'statsmodels.iolib.summary.Summary'>\n",
       "\"\"\"\n",
       "                            OLS Regression Results                            \n",
       "==============================================================================\n",
       "Dep. Variable:                  sales   R-squared:                       0.641\n",
       "Model:                            OLS   Adj. R-squared:                  0.639\n",
       "Method:                 Least Squares   F-statistic:                     357.2\n",
       "Date:                Tue, 25 Dec 2018   Prob (F-statistic):           2.23e-46\n",
       "Time:                        14:21:39   Log-Likelihood:                -536.53\n",
       "No. Observations:                 202   AIC:                             1077.\n",
       "Df Residuals:                     200   BIC:                             1084.\n",
       "Df Model:                           1                                         \n",
       "Covariance Type:            nonrobust                                         \n",
       "==============================================================================\n",
       "                 coef    std err          t      P>|t|      [0.025      0.975]\n",
       "------------------------------------------------------------------------------\n",
       "const          4.1106      0.585      7.028      0.000       2.957       5.264\n",
       "x1             0.0498      0.003     18.900      0.000       0.045       0.055\n",
       "==============================================================================\n",
       "Omnibus:                      190.334   Durbin-Watson:                   1.536\n",
       "Prob(Omnibus):                  0.000   Jarque-Bera (JB):             8361.155\n",
       "Skew:                           3.253   Prob(JB):                         0.00\n",
       "Kurtosis:                      33.840   Cond. No.                         532.\n",
       "==============================================================================\n",
       "\n",
       "Warnings:\n",
       "[1] Standard Errors assume that the covariance matrix of the errors is correctly specified.\n",
       "\"\"\""
      ]
     },
     "execution_count": 55,
     "metadata": {},
     "output_type": "execute_result"
    }
   ],
   "source": [
    "model_simple_ols = sm.OLS(y_simple, X_simple)\n",
    "results_ols_simple = model_simple_ols.fit()\n",
    "results_ols_simple.summary()"
   ]
  },
  {
   "cell_type": "code",
   "execution_count": 56,
   "metadata": {},
   "outputs": [],
   "source": [
    "X_multi = sm.add_constant(x_multi)"
   ]
  },
  {
   "cell_type": "code",
   "execution_count": 57,
   "metadata": {},
   "outputs": [
    {
     "data": {
      "text/html": [
       "<table class=\"simpletable\">\n",
       "<caption>OLS Regression Results</caption>\n",
       "<tr>\n",
       "  <th>Dep. Variable:</th>          <td>sales</td>      <th>  R-squared:         </th> <td>   0.755</td>\n",
       "</tr>\n",
       "<tr>\n",
       "  <th>Model:</th>                   <td>OLS</td>       <th>  Adj. R-squared:    </th> <td>   0.751</td>\n",
       "</tr>\n",
       "<tr>\n",
       "  <th>Method:</th>             <td>Least Squares</td>  <th>  F-statistic:       </th> <td>   203.1</td>\n",
       "</tr>\n",
       "<tr>\n",
       "  <th>Date:</th>             <td>Tue, 25 Dec 2018</td> <th>  Prob (F-statistic):</th> <td>3.63e-60</td>\n",
       "</tr>\n",
       "<tr>\n",
       "  <th>Time:</th>                 <td>14:21:41</td>     <th>  Log-Likelihood:    </th> <td> -498.05</td>\n",
       "</tr>\n",
       "<tr>\n",
       "  <th>No. Observations:</th>      <td>   202</td>      <th>  AIC:               </th> <td>   1004.</td>\n",
       "</tr>\n",
       "<tr>\n",
       "  <th>Df Residuals:</th>          <td>   198</td>      <th>  BIC:               </th> <td>   1017.</td>\n",
       "</tr>\n",
       "<tr>\n",
       "  <th>Df Model:</th>              <td>     3</td>      <th>                     </th>     <td> </td>   \n",
       "</tr>\n",
       "<tr>\n",
       "  <th>Covariance Type:</th>      <td>nonrobust</td>    <th>                     </th>     <td> </td>   \n",
       "</tr>\n",
       "</table>\n",
       "<table class=\"simpletable\">\n",
       "<tr>\n",
       "    <td></td>       <th>coef</th>     <th>std err</th>      <th>t</th>      <th>P>|t|</th>  <th>[0.025</th>    <th>0.975]</th>  \n",
       "</tr>\n",
       "<tr>\n",
       "  <th>const</th> <td>    2.7410</td> <td>    0.535</td> <td>    5.121</td> <td> 0.000</td> <td>    1.686</td> <td>    3.796</td>\n",
       "</tr>\n",
       "<tr>\n",
       "  <th>x1</th>    <td>    0.0470</td> <td>    0.002</td> <td>   19.827</td> <td> 0.000</td> <td>    0.042</td> <td>    0.052</td>\n",
       "</tr>\n",
       "<tr>\n",
       "  <th>x2</th>    <td>    0.1884</td> <td>    0.015</td> <td>   12.773</td> <td> 0.000</td> <td>    0.159</td> <td>    0.218</td>\n",
       "</tr>\n",
       "<tr>\n",
       "  <th>x3</th>    <td>    0.0022</td> <td>    0.010</td> <td>    0.219</td> <td> 0.827</td> <td>   -0.018</td> <td>    0.022</td>\n",
       "</tr>\n",
       "</table>\n",
       "<table class=\"simpletable\">\n",
       "<tr>\n",
       "  <th>Omnibus:</th>       <td>290.399</td> <th>  Durbin-Watson:     </th> <td>   1.365</td> \n",
       "</tr>\n",
       "<tr>\n",
       "  <th>Prob(Omnibus):</th> <td> 0.000</td>  <th>  Jarque-Bera (JB):  </th> <td>44058.362</td>\n",
       "</tr>\n",
       "<tr>\n",
       "  <th>Skew:</th>          <td> 6.143</td>  <th>  Prob(JB):          </th> <td>    0.00</td> \n",
       "</tr>\n",
       "<tr>\n",
       "  <th>Kurtosis:</th>      <td>74.300</td>  <th>  Cond. No.          </th> <td>    460.</td> \n",
       "</tr>\n",
       "</table><br/><br/>Warnings:<br/>[1] Standard Errors assume that the covariance matrix of the errors is correctly specified."
      ],
      "text/plain": [
       "<class 'statsmodels.iolib.summary.Summary'>\n",
       "\"\"\"\n",
       "                            OLS Regression Results                            \n",
       "==============================================================================\n",
       "Dep. Variable:                  sales   R-squared:                       0.755\n",
       "Model:                            OLS   Adj. R-squared:                  0.751\n",
       "Method:                 Least Squares   F-statistic:                     203.1\n",
       "Date:                Tue, 25 Dec 2018   Prob (F-statistic):           3.63e-60\n",
       "Time:                        14:21:41   Log-Likelihood:                -498.05\n",
       "No. Observations:                 202   AIC:                             1004.\n",
       "Df Residuals:                     198   BIC:                             1017.\n",
       "Df Model:                           3                                         \n",
       "Covariance Type:            nonrobust                                         \n",
       "==============================================================================\n",
       "                 coef    std err          t      P>|t|      [0.025      0.975]\n",
       "------------------------------------------------------------------------------\n",
       "const          2.7410      0.535      5.121      0.000       1.686       3.796\n",
       "x1             0.0470      0.002     19.827      0.000       0.042       0.052\n",
       "x2             0.1884      0.015     12.773      0.000       0.159       0.218\n",
       "x3             0.0022      0.010      0.219      0.827      -0.018       0.022\n",
       "==============================================================================\n",
       "Omnibus:                      290.399   Durbin-Watson:                   1.365\n",
       "Prob(Omnibus):                  0.000   Jarque-Bera (JB):            44058.362\n",
       "Skew:                           6.143   Prob(JB):                         0.00\n",
       "Kurtosis:                      74.300   Cond. No.                         460.\n",
       "==============================================================================\n",
       "\n",
       "Warnings:\n",
       "[1] Standard Errors assume that the covariance matrix of the errors is correctly specified.\n",
       "\"\"\""
      ]
     },
     "execution_count": 57,
     "metadata": {},
     "output_type": "execute_result"
    }
   ],
   "source": [
    "model_multi_ols = sm.OLS(y_multi,X_multi)\n",
    "results_ols_multi  = model_multi_ols.fit()\n",
    "results_ols_multi.summary()"
   ]
  },
  {
   "cell_type": "code",
   "execution_count": 58,
   "metadata": {},
   "outputs": [],
   "source": [
    "# QUESTION B\n",
    "predict_simple_y = simple_model.predict(x_simple)\n",
    "predict_multi_y = multi_model.predict(x_multi)"
   ]
  },
  {
   "cell_type": "code",
   "execution_count": 59,
   "metadata": {},
   "outputs": [],
   "source": [
    "from sklearn import metrics as met"
   ]
  },
  {
   "cell_type": "code",
   "execution_count": 60,
   "metadata": {},
   "outputs": [
    {
     "data": {
      "text/plain": [
       "11.87328145453435"
      ]
     },
     "execution_count": 60,
     "metadata": {},
     "output_type": "execute_result"
    }
   ],
   "source": [
    "simple_mse = met.mean_squared_error(y_simple,predict_simple_y)\n",
    "simple_mse"
   ]
  },
  {
   "cell_type": "code",
   "execution_count": 61,
   "metadata": {},
   "outputs": [
    {
     "data": {
      "text/plain": [
       "8.112070122284843"
      ]
     },
     "execution_count": 61,
     "metadata": {},
     "output_type": "execute_result"
    }
   ],
   "source": [
    "multi_mse = met.mean_squared_error(y_multi,predict_multi_y)\n",
    "multi_mse"
   ]
  },
  {
   "cell_type": "code",
   "execution_count": 62,
   "metadata": {},
   "outputs": [],
   "source": [
    "# FROM ABOVE TWO VALE OF MEAN SQUARED ERROR WE CAN SEE THAT THE MULTIPLE REGRESSION MODEL IS BETTER\n",
    "# AS WE CAN SEE THE DIFFERENCE IN THE VALUE IS LESS AND THAT TELLS THAT ERROR IN THE ORIGNAL VALUE WITH RESPECT TO FIT VALUE IS LESS. WHICH MEANS THE MULTI MODEL WILL GIVE GOOD ANALYIS \n",
    "# SO HENCE THE MULTIPKE REGRESSION MODEL IS BETTER THAN SIMPLE REGRESSION."
   ]
  },
  {
   "cell_type": "code",
   "execution_count": null,
   "metadata": {},
   "outputs": [],
   "source": []
  },
  {
   "cell_type": "code",
   "execution_count": null,
   "metadata": {},
   "outputs": [],
   "source": []
  },
  {
   "cell_type": "code",
   "execution_count": null,
   "metadata": {},
   "outputs": [],
   "source": []
  },
  {
   "cell_type": "code",
   "execution_count": null,
   "metadata": {},
   "outputs": [],
   "source": []
  },
  {
   "cell_type": "code",
   "execution_count": null,
   "metadata": {},
   "outputs": [],
   "source": []
  },
  {
   "cell_type": "code",
   "execution_count": null,
   "metadata": {},
   "outputs": [],
   "source": []
  },
  {
   "cell_type": "code",
   "execution_count": null,
   "metadata": {},
   "outputs": [],
   "source": []
  }
 ],
 "metadata": {
  "kernelspec": {
   "display_name": "Python 3",
   "language": "python",
   "name": "python3"
  },
  "language_info": {
   "codemirror_mode": {
    "name": "ipython",
    "version": 3
   },
   "file_extension": ".py",
   "mimetype": "text/x-python",
   "name": "python",
   "nbconvert_exporter": "python",
   "pygments_lexer": "ipython3",
   "version": "3.6.5"
  }
 },
 "nbformat": 4,
 "nbformat_minor": 2
}
